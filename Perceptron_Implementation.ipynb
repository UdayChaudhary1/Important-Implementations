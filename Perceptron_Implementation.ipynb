{
  "nbformat": 4,
  "nbformat_minor": 0,
  "metadata": {
    "colab": {
      "provenance": [],
      "authorship_tag": "ABX9TyOfOJoqerkjmtzfbSRmvBJv",
      "include_colab_link": true
    },
    "kernelspec": {
      "name": "python3",
      "display_name": "Python 3"
    },
    "language_info": {
      "name": "python"
    }
  },
  "cells": [
    {
      "cell_type": "markdown",
      "metadata": {
        "id": "view-in-github",
        "colab_type": "text"
      },
      "source": [
        "<a href=\"https://colab.research.google.com/github/UdayChaudhary1/Important-Implementations/blob/main/Perceptron_Implementation.ipynb\" target=\"_parent\"><img src=\"https://colab.research.google.com/assets/colab-badge.svg\" alt=\"Open In Colab\"/></a>"
      ]
    },
    {
      "cell_type": "code",
      "execution_count": 1,
      "metadata": {
        "id": "Gha8No37QibL"
      },
      "outputs": [],
      "source": [
        "import numpy as np"
      ]
    },
    {
      "cell_type": "code",
      "source": [
        "X = np.array([[2, 3], [1, 1], [4, 5], [2, 1]])  # Features\n",
        "y = np.array([1, -1, 1, -1])  # Labels"
      ],
      "metadata": {
        "id": "BZZGxmvWQ12J"
      },
      "execution_count": 2,
      "outputs": []
    },
    {
      "cell_type": "code",
      "source": [
        "class Perceptron:\n",
        "    def __init__(self, input_dim, learning_rate=0.01, epochs=1000):\n",
        "        self.learning_rate = learning_rate\n",
        "        self.epochs = epochs\n",
        "        self.weights = np.zeros(input_dim + 1)  # including bias term\n",
        "        self.bias = 0\n",
        "\n",
        "    def predict(self, X):\n",
        "        \"\"\" Predict the class label for a given input X \"\"\"\n",
        "        net_input = np.dot(X, self.weights[:-1]) + self.weights[-1]  # net input + bias\n",
        "        return np.where(net_input >= 0, 1, -1)  # Activation function (step function)\n",
        "\n",
        "    def fit(self, X, y):\n",
        "        \"\"\" Train the perceptron model \"\"\"\n",
        "        for epoch in range(self.epochs):\n",
        "            for i in range(X.shape[0]):\n",
        "                # Make a prediction\n",
        "                prediction = self.predict(X[i])\n",
        "                # Calculate the error\n",
        "                error = y[i] - prediction\n",
        "                # Update weights and bias\n",
        "                self.weights[:-1] += self.learning_rate * error * X[i]\n",
        "                self.weights[-1] += self.learning_rate * error  # Update bias"
      ],
      "metadata": {
        "id": "PEEYLkPyQ5S6"
      },
      "execution_count": 3,
      "outputs": []
    },
    {
      "cell_type": "code",
      "source": [
        "# Initialize and train perceptron\n",
        "perceptron = Perceptron(input_dim=X.shape[1], learning_rate=0.01, epochs=1000)\n",
        "perceptron.fit(X, y)"
      ],
      "metadata": {
        "id": "cGX92dmAQ69z"
      },
      "execution_count": 4,
      "outputs": []
    },
    {
      "cell_type": "code",
      "source": [
        " # Predictions\n",
        "predictions = perceptron.predict(X)\n",
        "print(\"Predictions:\", predictions)"
      ],
      "metadata": {
        "colab": {
          "base_uri": "https://localhost:8080/"
        },
        "id": "gPcPnQ-HQ9JV",
        "outputId": "de4755dc-5aba-44aa-b822-3ff5149e641b"
      },
      "execution_count": 5,
      "outputs": [
        {
          "output_type": "stream",
          "name": "stdout",
          "text": [
            "Predictions: [ 1 -1  1 -1]\n"
          ]
        }
      ]
    },
    {
      "cell_type": "code",
      "source": [],
      "metadata": {
        "id": "uTToO2jhQ_Wp"
      },
      "execution_count": null,
      "outputs": []
    }
  ]
}