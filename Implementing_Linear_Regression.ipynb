{
  "nbformat": 4,
  "nbformat_minor": 0,
  "metadata": {
    "colab": {
      "provenance": [],
      "authorship_tag": "ABX9TyOAs0vwTYGCe1BJ32/pYWRK",
      "include_colab_link": true
    },
    "kernelspec": {
      "name": "python3",
      "display_name": "Python 3"
    },
    "language_info": {
      "name": "python"
    }
  },
  "cells": [
    {
      "cell_type": "markdown",
      "metadata": {
        "id": "view-in-github",
        "colab_type": "text"
      },
      "source": [
        "<a href=\"https://colab.research.google.com/github/UdayChaudhary1/Important-Implementations/blob/main/Implementing_Linear_Regression.ipynb\" target=\"_parent\"><img src=\"https://colab.research.google.com/assets/colab-badge.svg\" alt=\"Open In Colab\"/></a>"
      ]
    },
    {
      "cell_type": "code",
      "execution_count": 271,
      "metadata": {
        "id": "ZGqDT3Qk1eEu"
      },
      "outputs": [],
      "source": [
        "import numpy as np\n",
        "from sklearn.model_selection import train_test_split\n",
        "from sklearn import metrics\n",
        "import matplotlib.pyplot as plt"
      ]
    },
    {
      "cell_type": "code",
      "source": [
        "# Example dataset\n",
        "X = np.array([[1], [2], [3], [4], [5], [6],[24.5], [7], [8], [11.5], [15], [13.5], [17.5], [10], [11], [12], [13], [14], [15], [16], [19.5], [21], [17], [18], [19], [20]])\n",
        "y = np.array([4.2, 16, 6.1,  7.8, 10.5, 12.7, 14.6, 14, 12, 16.2, 18.4, 21.1, 22.8,\n",
        "     25.4, 27.1, 29.3, 31.2, 33.5, 35.6, 37.2, 39.8, 42.1, 44.5, 37, 23, 26])"
      ],
      "metadata": {
        "id": "9mgQDuzy1gYW"
      },
      "execution_count": 332,
      "outputs": []
    },
    {
      "cell_type": "code",
      "source": [
        "print(X.shape)\n",
        "print(y.shape)"
      ],
      "metadata": {
        "colab": {
          "base_uri": "https://localhost:8080/"
        },
        "id": "BRC7EiBEUIV9",
        "outputId": "da158bbd-c46e-4442-bbc4-e8b79fc42b4c"
      },
      "execution_count": 333,
      "outputs": [
        {
          "output_type": "stream",
          "name": "stdout",
          "text": [
            "(26, 1)\n",
            "(26,)\n"
          ]
        }
      ]
    },
    {
      "cell_type": "code",
      "source": [
        "class LinearRegression:\n",
        "    def __init__(self, learning_rate=0.01, epochs=1000):\n",
        "        self.learning_rate = learning_rate\n",
        "        self.epochs = epochs\n",
        "        self.weights = None\n",
        "        self.bias = None\n",
        "\n",
        "    def fit(self, X, y):\n",
        "        n_samples, n_features = X.shape\n",
        "        self.weights = np.zeros(n_features)\n",
        "        self.bias = 0\n",
        "\n",
        "        # Gradient Descent\n",
        "        for epoch in range(self.epochs):\n",
        "            y_predicted = np.dot(X, self.weights) + self.bias\n",
        "\n",
        "            dw = -(2 / n_samples) * np.dot(X.T, (y - y_predicted))\n",
        "            db = -(2 / n_samples) * np.sum(y - y_predicted)\n",
        "\n",
        "            self.weights -= self.learning_rate * dw\n",
        "            self.bias -= self.learning_rate * db\n",
        "\n",
        "            # Compute and print the loss every 100 epochs\n",
        "            if epoch % 100 == 0:\n",
        "                loss = self.compute_loss(X, y)\n",
        "                print(f'Epoch {epoch}: Loss = {loss:.4f}')\n",
        "\n",
        "    def predict(self, X):\n",
        "        return np.dot(X, self.weights) + self.bias\n",
        "\n",
        "    def compute_loss(self, X, y):\n",
        "        n_samples = X.shape[0]\n",
        "        y_predicted = np.dot(X, self.weights) + self.bias\n",
        "        loss = (1 / n_samples) * np.sum((y - y_predicted) ** 2)\n",
        "        return loss"
      ],
      "metadata": {
        "id": "F5vPlztI1iKX"
      },
      "execution_count": 297,
      "outputs": []
    },
    {
      "cell_type": "code",
      "source": [
        "# Split the data\n",
        "X_train, X_test, y_train, y_test = train_test_split(X, y, test_size=0.20, random_state=2)"
      ],
      "metadata": {
        "id": "_Vg7EvVBOmhA"
      },
      "execution_count": 334,
      "outputs": []
    },
    {
      "cell_type": "code",
      "source": [
        "X_test[:, 0]"
      ],
      "metadata": {
        "colab": {
          "base_uri": "https://localhost:8080/"
        },
        "id": "vn7pDhIARleL",
        "outputId": "d6980823-bb84-43c6-e2a2-499b0525a1ca"
      },
      "execution_count": 335,
      "outputs": [
        {
          "output_type": "execute_result",
          "data": {
            "text/plain": [
              "array([19. ,  1. , 11.5, 19.5, 13. , 17.5])"
            ]
          },
          "metadata": {},
          "execution_count": 335
        }
      ]
    },
    {
      "cell_type": "code",
      "source": [
        "y_test"
      ],
      "metadata": {
        "colab": {
          "base_uri": "https://localhost:8080/"
        },
        "id": "JO0aER5ER0tR",
        "outputId": "8b3db978-d7e1-48f6-dacc-629e57f2d1d4"
      },
      "execution_count": 336,
      "outputs": [
        {
          "output_type": "execute_result",
          "data": {
            "text/plain": [
              "array([23. ,  4.2, 16.2, 39.8, 31.2, 22.8])"
            ]
          },
          "metadata": {},
          "execution_count": 336
        }
      ]
    },
    {
      "cell_type": "code",
      "source": [
        "# Create and train the model\n",
        "model = LinearRegression(learning_rate=0.001, epochs=11000)\n",
        "model.fit(X_train, y_train)"
      ],
      "metadata": {
        "colab": {
          "base_uri": "https://localhost:8080/"
        },
        "id": "nQybE-n-1o5e",
        "outputId": "778f0970-f2e7-47ae-95cf-81b4ccd66cb2"
      },
      "execution_count": 337,
      "outputs": [
        {
          "output_type": "stream",
          "name": "stdout",
          "text": [
            "Epoch 0: Loss = 326.7221\n",
            "Epoch 100: Loss = 90.1216\n",
            "Epoch 200: Loss = 88.9745\n",
            "Epoch 300: Loss = 87.9195\n",
            "Epoch 400: Loss = 86.9491\n",
            "Epoch 500: Loss = 86.0566\n",
            "Epoch 600: Loss = 85.2357\n",
            "Epoch 700: Loss = 84.4807\n",
            "Epoch 800: Loss = 83.7863\n",
            "Epoch 900: Loss = 83.1476\n",
            "Epoch 1000: Loss = 82.5602\n",
            "Epoch 1100: Loss = 82.0199\n",
            "Epoch 1200: Loss = 81.5230\n",
            "Epoch 1300: Loss = 81.0660\n",
            "Epoch 1400: Loss = 80.6456\n",
            "Epoch 1500: Loss = 80.2589\n",
            "Epoch 1600: Loss = 79.9033\n",
            "Epoch 1700: Loss = 79.5763\n",
            "Epoch 1800: Loss = 79.2754\n",
            "Epoch 1900: Loss = 78.9988\n",
            "Epoch 2000: Loss = 78.7443\n",
            "Epoch 2100: Loss = 78.5102\n",
            "Epoch 2200: Loss = 78.2950\n",
            "Epoch 2300: Loss = 78.0970\n",
            "Epoch 2400: Loss = 77.9148\n",
            "Epoch 2500: Loss = 77.7474\n",
            "Epoch 2600: Loss = 77.5933\n",
            "Epoch 2700: Loss = 77.4516\n",
            "Epoch 2800: Loss = 77.3213\n",
            "Epoch 2900: Loss = 77.2014\n",
            "Epoch 3000: Loss = 77.0912\n",
            "Epoch 3100: Loss = 76.9898\n",
            "Epoch 3200: Loss = 76.8965\n",
            "Epoch 3300: Loss = 76.8108\n",
            "Epoch 3400: Loss = 76.7319\n",
            "Epoch 3500: Loss = 76.6593\n",
            "Epoch 3600: Loss = 76.5926\n",
            "Epoch 3700: Loss = 76.5312\n",
            "Epoch 3800: Loss = 76.4747\n",
            "Epoch 3900: Loss = 76.4228\n",
            "Epoch 4000: Loss = 76.3751\n",
            "Epoch 4100: Loss = 76.3311\n",
            "Epoch 4200: Loss = 76.2907\n",
            "Epoch 4300: Loss = 76.2536\n",
            "Epoch 4400: Loss = 76.2194\n",
            "Epoch 4500: Loss = 76.1880\n",
            "Epoch 4600: Loss = 76.1590\n",
            "Epoch 4700: Loss = 76.1325\n",
            "Epoch 4800: Loss = 76.1080\n",
            "Epoch 4900: Loss = 76.0855\n",
            "Epoch 5000: Loss = 76.0648\n",
            "Epoch 5100: Loss = 76.0458\n",
            "Epoch 5200: Loss = 76.0283\n",
            "Epoch 5300: Loss = 76.0122\n",
            "Epoch 5400: Loss = 75.9974\n",
            "Epoch 5500: Loss = 75.9838\n",
            "Epoch 5600: Loss = 75.9712\n",
            "Epoch 5700: Loss = 75.9597\n",
            "Epoch 5800: Loss = 75.9491\n",
            "Epoch 5900: Loss = 75.9394\n",
            "Epoch 6000: Loss = 75.9304\n",
            "Epoch 6100: Loss = 75.9222\n",
            "Epoch 6200: Loss = 75.9146\n",
            "Epoch 6300: Loss = 75.9076\n",
            "Epoch 6400: Loss = 75.9012\n",
            "Epoch 6500: Loss = 75.8953\n",
            "Epoch 6600: Loss = 75.8899\n",
            "Epoch 6700: Loss = 75.8849\n",
            "Epoch 6800: Loss = 75.8803\n",
            "Epoch 6900: Loss = 75.8761\n",
            "Epoch 7000: Loss = 75.8722\n",
            "Epoch 7100: Loss = 75.8686\n",
            "Epoch 7200: Loss = 75.8653\n",
            "Epoch 7300: Loss = 75.8623\n",
            "Epoch 7400: Loss = 75.8595\n",
            "Epoch 7500: Loss = 75.8570\n",
            "Epoch 7600: Loss = 75.8546\n",
            "Epoch 7700: Loss = 75.8525\n",
            "Epoch 7800: Loss = 75.8505\n",
            "Epoch 7900: Loss = 75.8487\n",
            "Epoch 8000: Loss = 75.8470\n",
            "Epoch 8100: Loss = 75.8454\n",
            "Epoch 8200: Loss = 75.8440\n",
            "Epoch 8300: Loss = 75.8427\n",
            "Epoch 8400: Loss = 75.8415\n",
            "Epoch 8500: Loss = 75.8404\n",
            "Epoch 8600: Loss = 75.8394\n",
            "Epoch 8700: Loss = 75.8384\n",
            "Epoch 8800: Loss = 75.8376\n",
            "Epoch 8900: Loss = 75.8368\n",
            "Epoch 9000: Loss = 75.8360\n",
            "Epoch 9100: Loss = 75.8354\n",
            "Epoch 9200: Loss = 75.8348\n",
            "Epoch 9300: Loss = 75.8342\n",
            "Epoch 9400: Loss = 75.8337\n",
            "Epoch 9500: Loss = 75.8332\n",
            "Epoch 9600: Loss = 75.8328\n",
            "Epoch 9700: Loss = 75.8323\n",
            "Epoch 9800: Loss = 75.8320\n",
            "Epoch 9900: Loss = 75.8316\n",
            "Epoch 10000: Loss = 75.8313\n",
            "Epoch 10100: Loss = 75.8310\n",
            "Epoch 10200: Loss = 75.8308\n",
            "Epoch 10300: Loss = 75.8305\n",
            "Epoch 10400: Loss = 75.8303\n",
            "Epoch 10500: Loss = 75.8301\n",
            "Epoch 10600: Loss = 75.8299\n",
            "Epoch 10700: Loss = 75.8297\n",
            "Epoch 10800: Loss = 75.8295\n",
            "Epoch 10900: Loss = 75.8294\n"
          ]
        }
      ]
    },
    {
      "cell_type": "code",
      "source": [
        "# Predictions and Metrics\n",
        "training_data_prediction = model.predict(X_train)\n",
        "test_data_prediction = model.predict(X_test)"
      ],
      "metadata": {
        "id": "eZUJELJ8Pjnc"
      },
      "execution_count": 338,
      "outputs": []
    },
    {
      "cell_type": "code",
      "source": [
        "# Calculate metrics\n",
        "training_r2 = metrics.r2_score(y_train, training_data_prediction)\n",
        "training_mae = metrics.mean_absolute_error(y_train, training_data_prediction)\n",
        "test_r2 = metrics.r2_score(y_test, test_data_prediction)\n",
        "test_mae = metrics.mean_absolute_error(y_test, test_data_prediction)"
      ],
      "metadata": {
        "id": "7NBaB13LO8gj"
      },
      "execution_count": 339,
      "outputs": []
    },
    {
      "cell_type": "code",
      "source": [
        "print(\"Training R Squared Error: \", training_r2)\n",
        "print(\"Training Mean Absolute Error: \", training_mae)\n",
        "print(\"Test R Squared Error: \", test_r2)\n",
        "print(\"Test Mean Absolute Error: \", test_mae)"
      ],
      "metadata": {
        "colab": {
          "base_uri": "https://localhost:8080/"
        },
        "id": "och118cAWD_p",
        "outputId": "7913da7f-2520-45f6-9f5b-b5b86f7c0445"
      },
      "execution_count": 340,
      "outputs": [
        {
          "output_type": "stream",
          "name": "stdout",
          "text": [
            "Training R Squared Error:  0.4350268825385605\n",
            "Training Mean Absolute Error:  7.379136646778726\n",
            "Test R Squared Error:  0.5919472925292217\n",
            "Test Mean Absolute Error:  7.063070801932912\n"
          ]
        }
      ]
    },
    {
      "cell_type": "code",
      "source": [
        "#Accuracy in predicting testing data\n",
        "test_data_prediction = model.predict(X_test)"
      ],
      "metadata": {
        "id": "sSDqf0eTPpjp"
      },
      "execution_count": 341,
      "outputs": []
    },
    {
      "cell_type": "code",
      "source": [
        "plt.scatter(X_train, y_train, color = 'red')\n",
        "plt.plot(X_train, training_data_prediction, color='blue')\n",
        "plt.show()"
      ],
      "metadata": {
        "colab": {
          "base_uri": "https://localhost:8080/",
          "height": 430
        },
        "id": "vhkzBZTpPwyH",
        "outputId": "0644cccf-ad72-4e00-848a-5e3167b92ef6"
      },
      "execution_count": 342,
      "outputs": [
        {
          "output_type": "display_data",
          "data": {
            "text/plain": [
              "<Figure size 640x480 with 1 Axes>"
            ],
            "image/png": "[encoded data removed]"
          },
          "metadata": {}
        }
      ]
    },
    {
      "cell_type": "code",
      "source": [
        "# Make predictions\n",
        "predictions = model.predict(X)\n",
        "print(\"Predicted values:\", predictions)"
      ],
      "metadata": {
        "colab": {
          "base_uri": "https://localhost:8080/"
        },
        "id": "qvOcNY7H1vkr",
        "outputId": "a71aa1a9-3592-4036-f624-241a2b5b5e6f"
      },
      "execution_count": 343,
      "outputs": [
        {
          "output_type": "stream",
          "name": "stdout",
          "text": [
            "Predicted values: [ 9.86753953 11.0981151  12.32869067 13.55926624 14.78984181 16.02041738\n",
            " 38.7860654  17.25099294 18.48156851 22.788583   27.0955975  25.24973414\n",
            " 30.17203642 20.94271965 22.17329522 23.40387079 24.63444636 25.86502193\n",
            " 27.0955975  28.32617306 32.63318755 34.47905091 29.55674863 30.7873242\n",
            " 32.01789977 33.24847534]\n"
          ]
        }
      ]
    },
    {
      "cell_type": "code",
      "source": [],
      "metadata": {
        "id": "bHy3Do65IZ5G"
      },
      "execution_count": null,
      "outputs": []
    }
  ]
}